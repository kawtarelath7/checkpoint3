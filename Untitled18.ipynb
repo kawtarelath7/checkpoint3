{
 "cells": [
  {
   "cell_type": "code",
   "execution_count": 1,
   "id": "97e77023",
   "metadata": {},
   "outputs": [
    {
     "name": "stdout",
     "output_type": "stream",
     "text": [
      "36\n"
     ]
    }
   ],
   "source": [
    "res=1\n",
    "sample = [2,3,6]\n",
    "for i in sample:\n",
    "    res = res *i\n",
    "print(res)"
   ]
  },
  {
   "cell_type": "code",
   "execution_count": 2,
   "id": "a98c7a5d",
   "metadata": {},
   "outputs": [
    {
     "data": {
      "text/plain": [
       "[(2, 1), (1, 2), (2, 3), (4, 4), (2, 5)]"
      ]
     },
     "execution_count": 2,
     "metadata": {},
     "output_type": "execute_result"
    }
   ],
   "source": [
    "sample2=[(2,5),(1,2),(4,4),(2,3),(2,1)]\n",
    "key=lambda x: x[1]\n",
    "result=sorted(sample2,key=lambda x: x[1])\n",
    "result"
   ]
  },
  {
   "cell_type": "code",
   "execution_count": 3,
   "id": "84ef24b7",
   "metadata": {},
   "outputs": [
    {
     "name": "stdout",
     "output_type": "stream",
     "text": [
      "{'d': 400, 'b': 400, 'c': 300, 'a': 200}\n"
     ]
    }
   ],
   "source": [
    "d1 ={'a':100,'b':200,'c':300}\n",
    "d2 ={'a':100,'b':200,'d':400}\n",
    "D = set(d1.keys()).union(set(d2.keys()))\n",
    "DD ={}\n",
    "for i in D:\n",
    "    DD[i] = d1.get(i,0) + d2.get(i,0)\n",
    "print(DD)"
   ]
  },
  {
   "cell_type": "code",
   "execution_count": 4,
   "id": "6a8ed2c0",
   "metadata": {},
   "outputs": [
    {
     "data": {
      "text/plain": [
       "[('item3', '24.5'), ('item2', '15.10'), ('item1', '12.20')]"
      ]
     },
     "execution_count": 4,
     "metadata": {},
     "output_type": "execute_result"
    }
   ],
   "source": [
    "lista = [('item1', '12.20'), ('item2', '15.10'), ('item3', '24.5')]\n",
    "sorted(lista,reverse = True)"
   ]
  },
  {
   "cell_type": "code",
   "execution_count": null,
   "id": "b8fef02c",
   "metadata": {},
   "outputs": [],
   "source": []
  }
 ],
 "metadata": {
  "kernelspec": {
   "display_name": "Python 3 (ipykernel)",
   "language": "python",
   "name": "python3"
  },
  "language_info": {
   "codemirror_mode": {
    "name": "ipython",
    "version": 3
   },
   "file_extension": ".py",
   "mimetype": "text/x-python",
   "name": "python",
   "nbconvert_exporter": "python",
   "pygments_lexer": "ipython3",
   "version": "3.9.12"
  }
 },
 "nbformat": 4,
 "nbformat_minor": 5
}
